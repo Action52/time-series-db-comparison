{
 "cells": [
  {
   "cell_type": "markdown",
   "metadata": {},
   "source": [
    "### Using KDB+ for a Financial Ticking"
   ]
  },
  {
   "cell_type": "markdown",
   "metadata": {},
   "source": [
    "#### Install qPython"
   ]
  },
  {
   "cell_type": "code",
   "execution_count": 1,
   "metadata": {},
   "outputs": [
    {
     "name": "stdout",
     "output_type": "stream",
     "text": [
      "Requirement already satisfied: qPython in /usr/local/Caskroom/miniconda/base/envs/kdb/lib/python3.9/site-packages (2.0.0)\n",
      "Requirement already satisfied: plotly in /usr/local/Caskroom/miniconda/base/envs/kdb/lib/python3.9/site-packages (5.11.0)\n",
      "Requirement already satisfied: tenacity>=6.2.0 in /usr/local/Caskroom/miniconda/base/envs/kdb/lib/python3.9/site-packages (from plotly) (8.1.0)\n",
      "Requirement already satisfied: seaborn in /usr/local/Caskroom/miniconda/base/envs/kdb/lib/python3.9/site-packages (0.12.1)\n",
      "Requirement already satisfied: matplotlib!=3.6.1,>=3.1 in /usr/local/Caskroom/miniconda/base/envs/kdb/lib/python3.9/site-packages (from seaborn) (3.5.2)\n",
      "Requirement already satisfied: numpy>=1.17 in /usr/local/Caskroom/miniconda/base/envs/kdb/lib/python3.9/site-packages (from seaborn) (1.23.3)\n",
      "Requirement already satisfied: pandas>=0.25 in /usr/local/Caskroom/miniconda/base/envs/kdb/lib/python3.9/site-packages (from seaborn) (1.5.1)\n",
      "Requirement already satisfied: packaging>=20.0 in /usr/local/Caskroom/miniconda/base/envs/kdb/lib/python3.9/site-packages (from matplotlib!=3.6.1,>=3.1->seaborn) (21.3)\n",
      "Requirement already satisfied: kiwisolver>=1.0.1 in /usr/local/Caskroom/miniconda/base/envs/kdb/lib/python3.9/site-packages (from matplotlib!=3.6.1,>=3.1->seaborn) (1.4.2)\n",
      "Requirement already satisfied: fonttools>=4.22.0 in /usr/local/Caskroom/miniconda/base/envs/kdb/lib/python3.9/site-packages (from matplotlib!=3.6.1,>=3.1->seaborn) (4.25.0)\n",
      "Requirement already satisfied: pillow>=6.2.0 in /usr/local/Caskroom/miniconda/base/envs/kdb/lib/python3.9/site-packages (from matplotlib!=3.6.1,>=3.1->seaborn) (9.2.0)\n",
      "Requirement already satisfied: python-dateutil>=2.7 in /usr/local/Caskroom/miniconda/base/envs/kdb/lib/python3.9/site-packages (from matplotlib!=3.6.1,>=3.1->seaborn) (2.8.2)\n",
      "Requirement already satisfied: cycler>=0.10 in /usr/local/Caskroom/miniconda/base/envs/kdb/lib/python3.9/site-packages (from matplotlib!=3.6.1,>=3.1->seaborn) (0.11.0)\n",
      "Requirement already satisfied: pyparsing>=2.2.1 in /usr/local/Caskroom/miniconda/base/envs/kdb/lib/python3.9/site-packages (from matplotlib!=3.6.1,>=3.1->seaborn) (3.0.9)\n",
      "Requirement already satisfied: pytz>=2020.1 in /usr/local/Caskroom/miniconda/base/envs/kdb/lib/python3.9/site-packages (from pandas>=0.25->seaborn) (2022.6)\n",
      "Requirement already satisfied: six>=1.5 in /usr/local/Caskroom/miniconda/base/envs/kdb/lib/python3.9/site-packages (from python-dateutil>=2.7->matplotlib!=3.6.1,>=3.1->seaborn) (1.16.0)\n"
     ]
    }
   ],
   "source": [
    "!pip install qPython\n",
    "!pip install plotly\n",
    "!pip install seaborn"
   ]
  },
  {
   "cell_type": "markdown",
   "metadata": {},
   "source": [
    "#### Before run next (Create sesion, last one to test the connection)\n",
    "\n",
    "First go to kdb folder  @It is necesary to load the csv files\n",
    "\n",
    "cd path to kdb\n",
    "\n",
    "Execute in terminal:\n",
    "\n",
    "q -p 5000\n",
    "\n",
    "h:hopen `:localhost:5000\n",
    "\n",
    "h\"2+2\" "
   ]
  },
  {
   "cell_type": "code",
   "execution_count": 147,
   "metadata": {},
   "outputs": [],
   "source": [
    "from qpython import qconnection\n",
    "import pandas as pd\n",
    "import datetime \n",
    "\n",
    "def create_connection(pandas=False):\n",
    "    q = qconnection.QConnection(host='localhost', port=5050, pandas = pandas)\n",
    "    # initialize connection\n",
    "    q.open()\n",
    "    \n",
    "    return q\n",
    "\n",
    "def close_sconnection(q):\n",
    "    q.close()\n",
    "\n"
   ]
  },
  {
   "cell_type": "code",
   "execution_count": 105,
   "metadata": {},
   "outputs": [],
   "source": [
    "import pandas as pd\n",
    "import numpy as np\n",
    "import os, gc\n",
    "from glob import glob\n",
    "import plotly.express as px\n",
    "import seaborn as sns\n",
    "import matplotlib.pyplot as plt\n"
   ]
  },
  {
   "cell_type": "markdown",
   "metadata": {},
   "source": [
    "# Create database and tables\n"
   ]
  },
  {
   "cell_type": "code",
   "execution_count": 106,
   "metadata": {},
   "outputs": [],
   "source": [
    "\n",
    "def create_database(q, \n",
    "                    tick_csv_path, tickenum_folder_path, \n",
    "                    base_csv_path, baseenum_folder_path):\n",
    "    \n",
    "    print('IPC version: %s. Is connected: %s' % (q.protocol_version, q.is_connected()))\n",
    "\n",
    "    # Load price tick file\n",
    "    q.sendSync(f'tick:(\"SIDTFIFIFIS\"; enlist\"|\")0:`:{tick_csv_path}')\n",
    "    \n",
    "    # Create enumeration for table (this is required to create a splayed table and then a partitioned table)\n",
    "    q.sendSync(f'tickenum: .Q.en[`:{tickenum_folder_path}] tick')\n",
    "    # Save table\n",
    "    q.sendSync('rsave `tickenum')\n",
    "\n",
    "\n",
    "    # Load base tick file\n",
    "    q.sendSync(f'base:(\"SSSSS\"; enlist\"|\")0:`:{base_csv_path}')\n",
    "    # Create enumeration for table (this is required to create a splayed table and then a partitioned table)\n",
    "    q.sendSync(f'baseenum: .Q.en[`:{baseenum_folder_path}] base')\n",
    "    # Save table\n",
    "    q.sendSync('rsave `baseenum')\n",
    "\n",
    "    q.sendSync('baseenum2:get `baseenum ')\n",
    "    q.sendSync('priceenum2:get `tickenum')\n"
   ]
  },
  {
   "cell_type": "code",
   "execution_count": 170,
   "metadata": {},
   "outputs": [],
   "source": [
    "import csv\n",
    "\n",
    "def save_list_results(url, data):\n",
    "    print(\"save_list_results\")\n",
    "    df = pd.DataFrame(data, index=[0])\n",
    "    df.to_csv(url)\n",
    "    \n",
    "def save_stats(url, data):\n",
    "    print(\"save_stats\")\n",
    "    df = pd.DataFrame(data)\n",
    "    df.to_csv(url)\n"
   ]
  },
  {
   "cell_type": "code",
   "execution_count": 6,
   "metadata": {},
   "outputs": [
    {
     "name": "stdout",
     "output_type": "stream",
     "text": [
      "Requirement already satisfied: joblib in /usr/local/Caskroom/miniconda/base/envs/kdb/lib/python3.9/site-packages (1.2.0)\r\n"
     ]
    }
   ],
   "source": [
    "!pip install joblib"
   ]
  },
  {
   "cell_type": "code",
   "execution_count": 108,
   "metadata": {},
   "outputs": [],
   "source": [
    "from joblib import Parallel, delayed\n",
    "from multiprocessing.pool import Pool\n",
    "import traceback\n",
    "import time\n",
    "NUM_THREADS = 5\n",
    "NUM_POOLS = 10\n",
    "\n",
    "def load_queries(path_to_queries) -> list:\n",
    "    queries=[]\n",
    "    for file in glob(path_to_queries+'*.q'):\n",
    "        with open(file, 'r') as file:\n",
    "            data = file.read().replace('\\n', ';')\n",
    "            queries.append(data)\n",
    "    return queries"
   ]
  },
  {
   "cell_type": "code",
   "execution_count": 156,
   "metadata": {},
   "outputs": [],
   "source": [
    "def run_query(q,run_id, query_number, queries, path_to_save_results, data_size, print_result=False):\n",
    "    print(f\"Running query {query_number} for scale factor {data_size}, saving results at {path_to_save_results}\")\n",
    "    try:\n",
    "        start = time.time()\n",
    "        temp=np.array(q(queries[query_number-1], qtype=1, adjust_dtype=False))\n",
    "        print(queries[query_number-1], temp)\n",
    "        result = q(queries[query_number-1])\n",
    "        df = pd.DataFrame(result)\n",
    "        #df = pd.DataFrame(data=q(queries[query_number-1], qtype=1, adjust_dtype=False))\n",
    "        result=df\n",
    "        count = df.shape[0]\n",
    "        end = time.time()\n",
    "        print(df)\n",
    "        result.to_csv(path_to_save_results.format(size=data_size, query_number=query_number))\n",
    "        stats = {\n",
    "            \"run_id\": run_id,\n",
    "            \"query_id\": query_number,\n",
    "            \"start_time\": start,\n",
    "            \"end_time\": end,\n",
    "            \"elapsed_time\": end-start,\n",
    "            \"row_count\": count,\n",
    "            'error': False\n",
    "        }\n",
    "        return stats\n",
    "    except Exception:\n",
    "        print(traceback.format_exc())\n",
    "        return {\n",
    "            \"run_id\": run_id,\n",
    "            \"query_id\": query_number,\n",
    "            \"start_time\": time.time(),\n",
    "            \"end_time\": time.time(),\n",
    "            \"elapsed_time\": 0.0,\n",
    "            \"row_count\": 0,\n",
    "            \"error\": True\n",
    "        }"
   ]
  },
  {
   "cell_type": "code",
   "execution_count": 160,
   "metadata": {},
   "outputs": [],
   "source": [
    "def run_queries(q,run_id, queries, path_to_save_results, path_to_save_stats, data_size, print_result=False):\n",
    "    stats = Parallel(n_jobs=NUM_THREADS, prefer=\"threads\")(delayed(run_query)(q,run_id, i+1, queries, path_to_save_results, data_size, print_result) for i in range(len(queries)))\n",
    "    print(stats)\n",
    "    save_list_results(path_to_save_stats, stats)\n",
    "    \n",
    "def run_queries_iter(q,run_id, queries, path_to_save_results, path_to_save_stats, data_size, print_result=False):\n",
    "    for i, query in enumerate(queries):\n",
    "        stats = run_query(q,run_id, i+1, queries, path_to_save_results, data_size, print_result)\n",
    "        print(stats)\n",
    "        save_list_results(path_to_save_stats, stats)\n"
   ]
  },
  {
   "cell_type": "code",
   "execution_count": 161,
   "metadata": {},
   "outputs": [],
   "source": [
    "import math\n",
    "def run(data_sizes, q):    \n",
    "    for i, data_size in enumerate(data_sizes):\n",
    "        queries_path = \"./queries/\"\n",
    "        result_path = \"../kdb/results/result_Q{query_number}_{size}.csv\"\n",
    "        stats_path =\"../kdb/results/test_run_stats_csv_{size}.csv\".format(size=data_size)\n",
    "        start_create_db = time.time()\n",
    "        folder = \"/Users/alfredo.leon/Desktop/findata/data/scale_1000\"\n",
    "        # Create metastore for the given size\n",
    "        create_database(q, \n",
    "                        tick_csv_path=f\"{folder}/tick_price_file_no_spaces.csv\", tickenum_folder_path=f\"{folder}/\", \n",
    "                        base_csv_path=f\"{folder}/tick_base_file_no_spaces.csv\", baseenum_folder_path=f\"{folder}/\")\n",
    "        end_create_db = time.time()\n",
    "        \n",
    "        # Load queries for the given size\n",
    "        queries = load_queries(queries_path)\n",
    "        start_run = time.time()\n",
    "        run_queries_iter(q, i+1, queries, result_path, stats_path, data_size)\n",
    "        end_run = time.time()\n",
    "        \n",
    "        df = pd.read_csv(stats_path)   \n",
    "        response_t= math.sqrt(df[['elapsed_time']].prod().tolist()[0])\n",
    "\n",
    "        # Saving the overall stats to csv file\n",
    "        overall_stats = [{\n",
    "            'batch_id': i+1,\n",
    "            'create_db_time': end_create_db - start_create_db,\n",
    "            'run_query_time': end_run - start_run,\n",
    "            'Response Time Metric': response_t\n",
    "            \n",
    "        }]\n",
    "\n",
    "        \n",
    "        overall_stats_path = \"../kdb/results/{size}_overall_stats.csv\".format(size=data_size)\n",
    "        save_stats(overall_stats_path, overall_stats)"
   ]
  },
  {
   "cell_type": "code",
   "execution_count": 174,
   "metadata": {},
   "outputs": [
    {
     "name": "stdout",
     "output_type": "stream",
     "text": [
      "IPC version: 3. Is connected: True\n",
      "Running query 1 for scale factor 1000, saving results at ../kdb/results/result_Q{query_number}_{size}.csv\n",
      "0!select[10] from `TradeSize xdesc select from select sum(TradeSize) by Id from priceenum2 where TradeDate=2022.11.23 [(b'Security_701', 438800) (b'Security_248', 413200)\n",
      " (b'Security_871', 410500) (b'Security_660', 402400)\n",
      " (b'Security_76', 398900) (b'Security_182', 398200)\n",
      " (b'Security_680', 395300) (b'Security_602', 394300)\n",
      " (b'Security_770', 391000) (b'Security_324', 390400)]\n",
      "                Id  TradeSize\n",
      "0  b'Security_701'     438800\n",
      "1  b'Security_248'     413200\n",
      "2  b'Security_871'     410500\n",
      "3  b'Security_660'     402400\n",
      "4   b'Security_76'     398900\n",
      "5  b'Security_182'     398200\n",
      "6  b'Security_680'     395300\n",
      "7  b'Security_602'     394300\n",
      "8  b'Security_770'     391000\n",
      "9  b'Security_324'     390400\n",
      "{'run_id': 1, 'query_id': 1, 'start_time': 1669129988.81906, 'end_time': 1669129989.040801, 'elapsed_time': 0.2217409610748291, 'row_count': 10, 'error': False}\n",
      "save_list_results\n",
      "Running query 2 for scale factor 1000, saving results at ../kdb/results/result_Q{query_number}_{size}.csv\n",
      "0!select[10] from `LossPercentage xasc `Id`LossPercentage xcol select Id, (ClosingPriceToday-ClosingPricePreviousDay)*100%ClosingPricePreviousDay from(`Id`ClosingPriceToday`ClosingPricePreviousDay xcol ((`Id`ClosingPriceToday xcol select first TradePrice by Id from (`TimeStamp xdesc select Id, TradePrice, TimeStamp from priceenum2 where TradeDate=2022.11.22, TradePrice>0.0)) ij (`Id`ClosingPricePreviousDay xcol select first TradePrice by Id from (`TimeStamp xdesc select Id, TradePrice, TimeStamp from priceenum2 where TradeDate=2022.11.23, TradePrice>0.0)))) [(b'Security_382', -70.        ) (b'Security_96', -62.5       )\n",
      " (b'Security_999', -59.09090909) (b'Security_322', -33.33333333)\n",
      " (b'Security_524', -26.66666667) (b'Security_656', -25.80645161)\n",
      " (b'Security_95', -23.52941176) (b'Security_19', -21.05263158)\n",
      " (b'Security_980', -19.79166667) (b'Security_799', -15.58441558)]\n",
      "                Id  LossPercentage\n",
      "0  b'Security_382'      -70.000000\n",
      "1   b'Security_96'      -62.500000\n",
      "2  b'Security_999'      -59.090909\n",
      "3  b'Security_322'      -33.333333\n",
      "4  b'Security_524'      -26.666667\n",
      "5  b'Security_656'      -25.806452\n",
      "6   b'Security_95'      -23.529412\n",
      "7   b'Security_19'      -21.052632\n",
      "8  b'Security_980'      -19.791667\n",
      "9  b'Security_799'      -15.584416\n",
      "{'run_id': 1, 'query_id': 2, 'start_time': 1669129989.3015769, 'end_time': 1669129989.328266, 'elapsed_time': 0.02668905258178711, 'row_count': 10, 'error': False}\n",
      "save_list_results\n",
      "Running query 3 for scale factor 1000, saving results at ../kdb/results/result_Q{query_number}_{size}.csv\n",
      "0!select sum(TradePrice * TradeSize) % sum(TradeSize) from priceenum2 where Id=`Security_1, TradeDate=2022.11.21, TimeStamp within 09:00:00.00 12:00:00.00 [(3.99304009,)]\n",
      "   TradePrice\n",
      "0     3.99304\n",
      "{'run_id': 1, 'query_id': 3, 'start_time': 1669129989.336954, 'end_time': 1669129989.341569, 'elapsed_time': 0.004614830017089844, 'row_count': 1, 'error': False}\n",
      "save_list_results\n",
      "Running query 4 for scale factor 1000, saving results at ../kdb/results/result_Q{query_number}_{size}.csv\n",
      "0!select [10;>2*(AskPrice-BidPrice)%(AskPrice+BidPrice)] Id, Percentage_spread: 2*(AskPrice-BidPrice)%(AskPrice+BidPrice) from select  last AskPrice where not null AskPrice, last BidPrice where not null BidPrice by Id from tickenum where TradeDate=2022.11.23 [(b'Security_382', 0.33333333) (b'Security_720', 0.27027027)\n",
      " (b'Security_96', 0.2       ) (b'Security_322', 0.15384615)\n",
      " (b'Security_874', 0.15384615) (b'Security_999', 0.12765957)\n",
      " (b'Security_241', 0.08695652) (b'Security_756', 0.08695652)\n",
      " (b'Security_19', 0.07594937) (b'Security_378', 0.07407407)]\n",
      "                Id  Percentage_spread\n",
      "0  b'Security_382'           0.333333\n",
      "1  b'Security_720'           0.270270\n",
      "2   b'Security_96'           0.200000\n",
      "3  b'Security_322'           0.153846\n",
      "4  b'Security_874'           0.153846\n",
      "5  b'Security_999'           0.127660\n",
      "6  b'Security_241'           0.086957\n",
      "7  b'Security_756'           0.086957\n",
      "8   b'Security_19'           0.075949\n",
      "9  b'Security_378'           0.074074\n",
      "{'run_id': 1, 'query_id': 4, 'start_time': 1669129989.345212, 'end_time': 1669129989.356947, 'elapsed_time': 0.011734962463378906, 'row_count': 10, 'error': False}\n",
      "save_list_results\n",
      "Running query 5 for scale factor 1000, saving results at ../kdb/results/result_Q{query_number}_{size}.csv\n",
      "secs : select[101] Id from baseenum2;securities: (exec Id from secs);0!select from priceenum2 where Id in securities, TradeDate=2022.11.21, TimeStamp within 09:00:00.00 12:00:00.00 [(b'Security_27',  1, 8360, 32402000, 31.   ,        5600,     nan, -2147483648,     nan, -2147483648, b'CT')\n",
      " (b'Security_95',  1, 8360, 32404000,    nan, -2147483648,  1.    ,        8100,     nan, -2147483648, b'Q')\n",
      " (b'Security_79',  1, 8360, 32407000, 39.   ,        5900,     nan, -2147483648,     nan, -2147483648, b'T')\n",
      " ...\n",
      " (b'Security_72', 44, 8360, 43193000, 80.875,        4400,     nan, -2147483648,     nan, -2147483648, b'CT')\n",
      " (b'Security_7', 46, 8360, 43193000,    nan, -2147483648, 47.0625,        4200,     nan, -2147483648, b'Q')\n",
      " (b'Security_74', 52, 8360, 43197000,    nan, -2147483648,     nan, -2147483648, 92.8438,        4300, b'Q')]\n",
      "                  Id  SeqNo  TradeDate  TimeStamp  TradePrice   TradeSize  \\\n",
      "0     b'Security_27'      1       8360   32402000      31.000        5600   \n",
      "1     b'Security_95'      1       8360   32404000         NaN -2147483648   \n",
      "2     b'Security_79'      1       8360   32407000      39.000        5900   \n",
      "3     b'Security_60'      1       8360   32412000      72.000         400   \n",
      "4     b'Security_22'      1       8360   32416000         NaN -2147483648   \n",
      "...              ...    ...        ...        ...         ...         ...   \n",
      "4266  b'Security_44'     43       8360   43187000         NaN -2147483648   \n",
      "4267  b'Security_82'     42       8360   43191000         NaN -2147483648   \n",
      "4268  b'Security_72'     44       8360   43193000      80.875        4400   \n",
      "4269   b'Security_7'     46       8360   43193000         NaN -2147483648   \n",
      "4270  b'Security_74'     52       8360   43197000         NaN -2147483648   \n",
      "\n",
      "      AskPrice     AskSize  BidPrice     BidSize   Type  \n",
      "0          NaN -2147483648       NaN -2147483648  b'CT'  \n",
      "1       1.0000        8100       NaN -2147483648   b'Q'  \n",
      "2          NaN -2147483648       NaN -2147483648   b'T'  \n",
      "3          NaN -2147483648       NaN -2147483648   b'T'  \n",
      "4      18.0625        8700       NaN -2147483648   b'Q'  \n",
      "...        ...         ...       ...         ...    ...  \n",
      "4266       NaN -2147483648   15.1250         200   b'Q'  \n",
      "4267   31.1875        2400       NaN -2147483648   b'Q'  \n",
      "4268       NaN -2147483648       NaN -2147483648  b'CT'  \n",
      "4269   47.0625        4200       NaN -2147483648   b'Q'  \n",
      "4270       NaN -2147483648   92.8438        4300   b'Q'  \n",
      "\n",
      "[4271 rows x 11 columns]\n",
      "{'run_id': 1, 'query_id': 5, 'start_time': 1669129989.359484, 'end_time': 1669129989.4529228, 'elapsed_time': 0.09343886375427246, 'row_count': 4271, 'error': False}\n",
      "save_list_results\n",
      "Running query 6 for scale factor 1000, saving results at ../kdb/results/result_Q{query_number}_{size}.csv\n",
      "0!select[10] from `TicksCount xdesc `Id`TicksCount xcol select sum TradeSize by Id from (ej[`Id;select from baseenum where SIC like \"COMPUTERS\"; tickenum]) [(b'Security_933', 1497000) (b'Security_627', 1480900)\n",
      " (b'Security_160', 1475100) (b'Security_794', 1473100)\n",
      " (b'Security_719', 1467700) (b'Security_196', 1455600)\n",
      " (b'Security_476', 1437200) (b'Security_282', 1429800)\n",
      " (b'Security_773', 1427100) (b'Security_89', 1425600)]\n",
      "                Id  TicksCount\n",
      "0  b'Security_933'     1497000\n",
      "1  b'Security_627'     1480900\n",
      "2  b'Security_160'     1475100\n",
      "3  b'Security_794'     1473100\n",
      "4  b'Security_719'     1467700\n",
      "5  b'Security_196'     1455600\n",
      "6  b'Security_476'     1437200\n",
      "7  b'Security_282'     1429800\n",
      "8  b'Security_773'     1427100\n",
      "9   b'Security_89'     1425600\n",
      "{'run_id': 1, 'query_id': 6, 'start_time': 1669129989.588576, 'end_time': 1669129989.610697, 'elapsed_time': 0.022120952606201172, 'row_count': 10, 'error': False}\n",
      "save_list_results\n",
      "save_stats\n"
     ]
    }
   ],
   "source": [
    "#data_sizes=['10', '100','1000']\n",
    "q=create_connection(pandas=False)\n",
    "#result = q('0!select[10] from `TradeSize xdesc select from select sum(TradeSize) by Id from priceenum2 where TradeDate=2022.11.23')\n",
    "#df = pd.DataFrame(result)\n",
    "#print(df.head())\n",
    "#print(result, type(result))\n",
    "run(data_sizes=['1000'],q=q)\n",
    "close_sconnection(q)"
   ]
  },
  {
   "cell_type": "code",
   "execution_count": null,
   "metadata": {},
   "outputs": [],
   "source": []
  }
 ],
 "metadata": {
  "kernelspec": {
   "display_name": "Python 3 (ipykernel)",
   "language": "python",
   "name": "python3"
  },
  "language_info": {
   "codemirror_mode": {
    "name": "ipython",
    "version": 3
   },
   "file_extension": ".py",
   "mimetype": "text/x-python",
   "name": "python",
   "nbconvert_exporter": "python",
   "pygments_lexer": "ipython3",
   "version": "3.9.13"
  },
  "vscode": {
   "interpreter": {
    "hash": "31f2aee4e71d21fbe5cf8b01ff0e069b9275f58929596ceb00d14d90e3e16cd6"
   }
  }
 },
 "nbformat": 4,
 "nbformat_minor": 2
}
