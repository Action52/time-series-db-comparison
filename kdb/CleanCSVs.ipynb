{
 "cells": [
  {
   "cell_type": "code",
   "execution_count": null,
   "id": "6b96a695",
   "metadata": {},
   "outputs": [],
   "source": [
    "import pandas as pd\n",
    "import numpy as np\n",
    "import os\n",
    "from tqdm import tqdm\n",
    "filepath = \"/Users/alfredo.leon/Desktop/findata/data/\"\n",
    "scales = [\"scale_1000\", \"scale_10000\", \"scale_100000\"]\n",
    "files = [\"tick_price_file\", \"tick_base_file\"]"
   ]
  },
  {
   "cell_type": "code",
   "execution_count": 56,
   "id": "191dc107",
   "metadata": {},
   "outputs": [
    {
     "name": "stderr",
     "output_type": "stream",
     "text": [
      "100%|███████████████████████████████████████████████| 3/3 [21:43<00:00, 434.66s/it]\n"
     ]
    }
   ],
   "source": [
    "for s in tqdm(scales):\n",
    "    for f in files:\n",
    "        df_chunks = pd.read_csv(f\"{filepath}{s}/{f}.csv\", chunksize=100000, delimiter=\"|\", dtype=str)\n",
    "        header = True\n",
    "        for i, chunk in enumerate(df_chunks):\n",
    "            chunk.rename(columns={col: col.strip(\" \") for col in chunk.columns}, inplace=True)\n",
    "            for col in chunk.columns:\n",
    "                chunk[col] = chunk[col].str.strip()\n",
    "            chunk.replace({\"Nil\": np.nan}, inplace=True)\n",
    "            if 'TimeStamp' in chunk.columns:\n",
    "                chunk = chunk[~chunk['TimeStamp'].str.match('\\d\\d:60:\\d\\d')]\n",
    "                chunk = chunk[~chunk['TimeStamp'].str.match('24:\\d\\d:\\d\\d')]\n",
    "            chunk.to_csv(f\"{filepath}{s}/{f}_no_spaces.csv\", mode=\"a\", header=header, sep='|', index=False)\n",
    "            header = False"
   ]
  },
  {
   "cell_type": "code",
   "execution_count": null,
   "id": "ffddc4b9",
   "metadata": {},
   "outputs": [],
   "source": []
  },
  {
   "cell_type": "code",
   "execution_count": null,
   "id": "598cccda",
   "metadata": {},
   "outputs": [],
   "source": []
  }
 ],
 "metadata": {
  "kernelspec": {
   "display_name": "Python 3 (ipykernel)",
   "language": "python",
   "name": "python3"
  },
  "language_info": {
   "codemirror_mode": {
    "name": "ipython",
    "version": 3
   },
   "file_extension": ".py",
   "mimetype": "text/x-python",
   "name": "python",
   "nbconvert_exporter": "python",
   "pygments_lexer": "ipython3",
   "version": "3.9.13"
  }
 },
 "nbformat": 4,
 "nbformat_minor": 5
}
