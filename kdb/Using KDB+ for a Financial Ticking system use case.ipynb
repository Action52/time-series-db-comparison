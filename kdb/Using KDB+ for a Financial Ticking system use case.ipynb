{
 "cells": [
  {
   "cell_type": "markdown",
   "id": "3188b2b9",
   "metadata": {},
   "source": [
    "# Using KDB+\n",
    "* * *\n",
    "## Load Database\n",
    "### From Original CSVs\n",
    "\n",
    "This action only has to be performed once. If you already have the splayed tables saved somewhere, go to section \"From Splayed Tables\" to load them."
   ]
  },
  {
   "cell_type": "code",
   "execution_count": 2,
   "id": "3a3a97fc",
   "metadata": {},
   "outputs": [
    {
     "data": {
      "text/plain": [
       "Id           SeqNo TradeDate  TimeStamp    TradePrice TradeSize AskPrice AskS..\n",
       "-----------------------------------------------------------------------------..\n",
       "Security_359 1     2022.11.21 09:00:00.000 43         6300                   ..\n",
       "Security_667 1     2022.11.21 09:00:00.000 57         9100                   ..\n",
       "Security_588 1     2022.11.21 09:00:00.000 27         6800                   ..\n",
       "Security_371 1     2022.11.21 09:00:00.000                      23.0938  9600..\n",
       "Security_661 1     2022.11.21 09:00:01.000                                   ..\n",
       "Security_591 1     2022.11.21 09:00:01.000                                   ..\n",
       "Security_794 1     2022.11.21 09:00:01.000 26         700                    ..\n",
       "Security_602 1     2022.11.21 09:00:01.000 58         8100                   ..\n",
       "Security_539 1     2022.11.21 09:00:02.000                                   ..\n",
       "Security_27  1     2022.11.21 09:00:02.000 31         5600                   ..\n"
      ]
     },
     "execution_count": 2,
     "metadata": {},
     "output_type": "execute_result"
    }
   ],
   "source": [
    "/ Load price tick file\n",
    "tick:(\"SIDTFIFIFIS\"; enlist\"|\")0:`:/Users/alfredo.leon/Desktop/findata/data/scale_1000/tick_price_file_no_spaces.csv\n",
    "/ Create enumeration for table (this is required to create a splayed table and then a partitioned table)\n",
    "tickenum: .Q.en[`:../data/test/raw/tickprice/] tick\n",
    "/ Sample query\n",
    "select[10] from tickenum where TimeStamp within 09:00:00.00 09:00:10.00\n",
    "/ Save table\n",
    "/rsave `tickenum"
   ]
  },
  {
   "cell_type": "code",
   "execution_count": 2,
   "id": "4a110f85",
   "metadata": {},
   "outputs": [
    {
     "data": {
      "text/plain": [
       "SeqNo\n",
       "-----\n",
       "583  \n"
      ]
     },
     "execution_count": 2,
     "metadata": {},
     "output_type": "execute_result"
    }
   ],
   "source": [
    "select last SeqNo from tickenum"
   ]
  },
  {
   "cell_type": "code",
   "execution_count": 6,
   "id": "67bfbde7",
   "metadata": {},
   "outputs": [
    {
     "data": {
      "text/plain": [
       "Id         Ex Descr                          SIC             Cu \n",
       "----------------------------------------------------------------\n",
       "Security_0 LN 'Financial security number: 0' COMPUTERS       FFR\n",
       "Security_1 NY 'Financial security number: 1' PHARMACEUTICALS FFR\n",
       "Security_2 O  'Financial security number: 2' SOFTWARE        USD\n",
       "Security_3 O  'Financial security number: 3' SOFTWARE        USD\n",
       "Security_4 AM 'Financial security number: 4' COMPUTERS       GBP\n"
      ]
     },
     "execution_count": 6,
     "metadata": {},
     "output_type": "execute_result"
    }
   ],
   "source": [
    "/ Load base tick file\n",
    "base:(\"SSSSS\"; enlist\"|\")0:`:/Users/alfredo.leon/Desktop/findata/data/scale_1000/tick_base_file_no_spaces.csv\n",
    "/ Create enumeration for table (this is required to create a splayed table and then a partitioned table)\n",
    "baseenum: .Q.en[`:../data/test/raw/basetick/] base\n",
    "/ Sample query\n",
    "select[5] from baseenum\n",
    "/ Save table\n",
    "/rsave `baseenum"
   ]
  },
  {
   "cell_type": "markdown",
   "id": "52a35ffd",
   "metadata": {},
   "source": [
    "### From Splayed Tables"
   ]
  },
  {
   "cell_type": "code",
   "execution_count": null,
   "id": "61170782",
   "metadata": {},
   "outputs": [],
   "source": [
    "/ Load the tables from saved splayed table using get to save into variable.\n",
    "/baseenum2:get `baseenum / This should be the path to the foldeer with data.\n",
    "/priceenum2:get `tickenum"
   ]
  },
  {
   "cell_type": "code",
   "execution_count": null,
   "id": "a62e3148",
   "metadata": {},
   "outputs": [],
   "source": [
    "/ Pending: Figure out how to partition tables and save/load those"
   ]
  },
  {
   "cell_type": "markdown",
   "id": "9e314dde",
   "metadata": {},
   "source": [
    "## Benchmark Queries"
   ]
  },
  {
   "cell_type": "markdown",
   "id": "e40cc57e",
   "metadata": {},
   "source": [
    "1. Get all ticks for a specified set of 100 securities for a specified three hour time period on a specified trade date.\n",
    "\n",
    "2. Determine the volume weighted price of a security considering only the ticks in a specified three hour interval\n",
    "\n",
    "3. Determine the top 10 percentage losers for the specified date on the specified exchanges sorted by percentage loss. The loss is calculated as a percentage of the last trade price of the previous day.\n",
    "\n",
    "4. Determine the top 10 most active stocks for a specified date sorted by cumulative trade volume by considering all trades\n",
    "\n",
    "5. Find the most active stocks in the \"COMPUTER\" industry (use SIC code)\n",
    "\n",
    "6. Find the 10 stocks with the highest percentage spreads. Spread is the difference between the last ask-price and the last bid-price. Percentage spread is calculated as a percentage of the mid-point price (average of ask and bid price)."
   ]
  },
  {
   "cell_type": "markdown",
   "id": "a62402b7",
   "metadata": {},
   "source": [
    "1. Get all ticks for a specified set of 100 securities for a specified three hour time period on a specified trade date."
   ]
  },
  {
   "cell_type": "code",
   "execution_count": 2,
   "id": "6b48a5a3",
   "metadata": {},
   "outputs": [
    {
     "data": {
      "text/plain": [
       "TradeDate \n",
       "----------\n",
       "2022.11.21\n",
       "2022.11.22\n",
       "2022.11.23\n",
       "2022.11.24\n",
       "2022.11.25\n"
      ]
     },
     "execution_count": 2,
     "metadata": {},
     "output_type": "execute_result"
    }
   ],
   "source": [
    "distinct select TradeDate from tickenum"
   ]
  },
  {
   "cell_type": "code",
   "execution_count": 2,
   "id": "b7e7b648",
   "metadata": {},
   "outputs": [
    {
     "data": {
      "text/plain": [
       "Id           SeqNo TradeDate  TimeStamp    TradePrice TradeSize AskPrice AskS..\n",
       "-----------------------------------------------------------------------------..\n",
       "Security_359 1     2022.11.21 09:00:00.000 43         6300                   ..\n",
       "Security_667 1     2022.11.21 09:00:00.000 57         9100                   ..\n",
       "Security_588 1     2022.11.21 09:00:00.000 27         6800                   ..\n",
       "Security_371 1     2022.11.21 09:00:00.000                      23.0938  9600..\n",
       "Security_661 1     2022.11.21 09:00:01.000                                   ..\n",
       "Security_591 1     2022.11.21 09:00:01.000                                   ..\n",
       "Security_794 1     2022.11.21 09:00:01.000 26         700                    ..\n",
       "Security_602 1     2022.11.21 09:00:01.000 58         8100                   ..\n",
       "Security_539 1     2022.11.21 09:00:02.000                                   ..\n",
       "Security_27  1     2022.11.21 09:00:02.000 31         5600                   ..\n",
       "Security_634 1     2022.11.21 09:00:02.000                                   ..\n",
       "Security_389 1     2022.11.21 09:00:02.000 11         6800                   ..\n",
       "Security_483 1     2022.11.21 09:00:03.000                      52.0312  6600..\n",
       "Security_485 1     2022.11.21 09:00:03.000                      12.0625  8900..\n",
       "Security_493 1     2022.11.21 09:00:03.000                      44.0938  4300..\n",
       "Security_171 1     2022.11.21 09:00:03.000                                   ..\n",
       "Security_387 1     2022.11.21 09:00:04.000                                   ..\n",
       "Security_337 1     2022.11.21 09:00:04.000 61         7300                   ..\n",
       "Security_95  1     2022.11.21 09:00:04.000                      1        8100..\n",
       "Security_815 1     2022.11.21 09:00:04.000 86         6600                   ..\n",
       "..\n"
      ]
     },
     "execution_count": 2,
     "metadata": {},
     "output_type": "execute_result"
    }
   ],
   "source": [
    "secs : select[101] Id from tickenum\n",
    "securities: (exec Id from secs)  / This is a list\n",
    "select from tickenum where Id in securities, TradeDate=2022.11.21, TimeStamp within 09:00:00.00 12:00:00.00"
   ]
  },
  {
   "cell_type": "markdown",
   "id": "cf104b42",
   "metadata": {},
   "source": [
    "2. Determine the volume weighted price of a security considering only the ticks in a specified three hour interval."
   ]
  },
  {
   "cell_type": "code",
   "execution_count": 2,
   "id": "7b55f513",
   "metadata": {},
   "outputs": [
    {
     "data": {
      "text/plain": [
       "TradePrice\n",
       "----------\n",
       "3.99304   \n"
      ]
     },
     "execution_count": 2,
     "metadata": {},
     "output_type": "execute_result"
    }
   ],
   "source": [
    "select sum(TradePrice * TradeSize) % sum(TradeSize) from tickenum where Id=`Security_1, TradeDate=2022.11.21, TimeStamp within 09:00:00.00 12:00:00.00"
   ]
  },
  {
   "cell_type": "markdown",
   "id": "da8c5d46",
   "metadata": {},
   "source": [
    "3. Determine the top 10 percentage losers for the specified date on the specified exchanges sorted by percentage loss. The loss is calculated as a percentage of the last trade price of the previous day."
   ]
  },
  {
   "cell_type": "code",
   "execution_count": 53,
   "id": "e84d1b47",
   "metadata": {},
   "outputs": [
    {
     "data": {
      "text/plain": [
       "Id           LossPercentage\n",
       "---------------------------\n",
       "Security_944 -70           \n",
       "Security_141 -62.5         \n",
       "Security_965 -59.09091     \n",
       "Security_751 -33.33333     \n",
       "Security_515 -26.66667     \n",
       "Security_475 -25.80645     \n",
       "Security_10  -23.52941     \n",
       "Security_921 -21.05263     \n",
       "Security_194 -19.79167     \n",
       "Security_405 -15.58442     \n"
      ]
     },
     "execution_count": 53,
     "metadata": {},
     "output_type": "execute_result"
    }
   ],
   "source": [
    "select[10] from\n",
    "    `LossPercentage xasc `Id`LossPercentage xcol\n",
    "    select Id, (ClosingPriceToday-ClosingPricePreviousDay)*100%ClosingPricePreviousDay from(\n",
    "        `Id`ClosingPriceToday`ClosingPricePreviousDay xcol\n",
    "        (\n",
    "            (`Id`ClosingPriceToday xcol select first TradePrice by Id from (`TimeStamp xdesc \n",
    "                select Id, TradePrice, TimeStamp \n",
    "                from tickenum\n",
    "                where TradeDate=2022.11.22, TradePrice>0.0)) ij\n",
    "            (`Id`ClosingPricePreviousDay xcol select first TradePrice by Id from (`TimeStamp xdesc \n",
    "                select Id, TradePrice, TimeStamp \n",
    "                from tickenum \n",
    "                where TradeDate=2022.11.23, TradePrice>0.0))\n",
    "        )\n",
    "    )"
   ]
  },
  {
   "cell_type": "markdown",
   "id": "2d851e75",
   "metadata": {},
   "source": [
    "4. Determine the top 10 most active stocks for a specified date sorted by cumulative trade volume by considering all trades"
   ]
  },
  {
   "cell_type": "code",
   "execution_count": 5,
   "id": "2c3bbd81",
   "metadata": {},
   "outputs": [
    {
     "data": {
      "text/plain": [
       "Id          | TradeCumulative\n",
       "------------| ---------------\n",
       "Security_350| 379300         \n",
       "Security_570| 376800         \n",
       "Security_179| 348900         \n",
       "Security_163| 348400         \n",
       "Security_436| 348300         \n",
       "Security_527| 347800         \n",
       "Security_407| 345100         \n",
       "Security_749| 345100         \n",
       "Security_714| 344100         \n",
       "Security_733| 341200         \n"
      ]
     },
     "execution_count": 5,
     "metadata": {},
     "output_type": "execute_result"
    }
   ],
   "source": [
    "select [10;>TradeCumulative] TradeCumulative:sum TradeSize by Id from tickenum where TradeDate=2022.11.22"
   ]
  },
  {
   "cell_type": "markdown",
   "id": "aa34eda3",
   "metadata": {},
   "source": [
    "5. Find the most active stocks in the \"COMPUTER\" industry (use SIC code)"
   ]
  },
  {
   "cell_type": "code",
   "execution_count": 52,
   "id": "2b14032e",
   "metadata": {},
   "outputs": [
    {
     "data": {
      "text/plain": [
       "Id          | TicksCount\n",
       "------------| ----------\n",
       "Security_471| 1506000   \n",
       "Security_276| 1496600   \n",
       "Security_683| 1486300   \n",
       "Security_531| 1474800   \n",
       "Security_934| 1463900   \n",
       "Security_729| 1461100   \n",
       "Security_773| 1455600   \n",
       "Security_302| 1443600   \n",
       "Security_846| 1441900   \n",
       "Security_289| 1441700   \n"
      ]
     },
     "execution_count": 52,
     "metadata": {},
     "output_type": "execute_result"
    }
   ],
   "source": [
    "select[10] from `TicksCount xdesc `Id`TicksCount xcol select sum TradeSize by Id from (\n",
    "    ej[`Id;select from baseenum where SIC like \"COMPUTERS\"; tickenum])"
   ]
  },
  {
   "cell_type": "markdown",
   "id": "193b8a32",
   "metadata": {},
   "source": [
    "6. Find the 10 stocks with the highest percentage spreads. Spread is the difference between the last ask-price and the last bid-price. Percentage spread is calculated as a percentage of the mid-point price (average of ask and bid price)."
   ]
  },
  {
   "cell_type": "code",
   "execution_count": 57,
   "id": "10b79d74",
   "metadata": {},
   "outputs": [
    {
     "data": {
      "text/plain": [
       "Id           Percentage_spread\n",
       "------------------------------\n",
       "Security_944 0.3333333        \n",
       "Security_808 0.2702703        \n",
       "Security_141 0.2              \n",
       "Security_355 0.1538462        \n",
       "Security_751 0.1538462        \n",
       "Security_965 0.1276596        \n",
       "Security_489 0.08695652       \n",
       "Security_519 0.08695652       \n",
       "Security_921 0.07594937       \n",
       "Security_238 0.07407407       \n"
      ]
     },
     "execution_count": 57,
     "metadata": {},
     "output_type": "execute_result"
    }
   ],
   "source": [
    "select [10;>2*(AskPrice-BidPrice)%(AskPrice+BidPrice)] Id, Percentage_spread: 2*(AskPrice-BidPrice)%(AskPrice+BidPrice) from select  last AskPrice where not null AskPrice, last BidPrice where not null BidPrice by Id from tickenum where TradeDate=2022.11.23"
   ]
  },
  {
   "cell_type": "code",
   "execution_count": 62,
   "id": "44a1efe3",
   "metadata": {},
   "outputs": [
    {
     "data": {
      "text/plain": [
       "Id                            | TradeSize\n",
       "------------------------------| ---------\n",
       "INDUSTRIAL                    | 394300   \n",
       "COMPUTERS                     | 350600   \n",
       "'Financial security number: 0'| 289600   \n",
       "'Financial security number: 2'| 288000   \n",
       "'Financial security number: 4'| 264100   \n",
       "'Financial security number: 3'| 249100   \n",
       "FFR                           | 245900   \n",
       "ENTERTAINMENT                 | 240900   \n",
       "'Financial security number: 1'| 238200   \n",
       "CHEMICALS                     | 188400   \n"
      ]
     },
     "execution_count": 62,
     "metadata": {},
     "output_type": "execute_result"
    }
   ],
   "source": [
    "select[10] from `TradeSize xdesc select[10] from select sum(TradeSize) by Id from tickenum where TradeDate=2022.11.23"
   ]
  },
  {
   "cell_type": "code",
   "execution_count": 74,
   "id": "a6ddda61",
   "metadata": {},
   "outputs": [
    {
     "data": {
      "text/plain": [
       "Id           SeqNo TradeDate  TimeStamp    TradePrice TradeSize AskPrice AskS..\n",
       "-----------------------------------------------------------------------------..\n",
       "Security_485 1     2022.11.21 09:00:03.000                      12.0625  8900..\n",
       "Security_493 1     2022.11.21 09:00:03.000                      44.0938  4300..\n",
       "Security_171 1     2022.11.21 09:00:03.000                                   ..\n",
       "Security_387 1     2022.11.21 09:00:04.000                                   ..\n",
       "Security_337 1     2022.11.21 09:00:04.000 61         7300                   ..\n",
       "Security_95  1     2022.11.21 09:00:04.000                      1        8100..\n",
       "Security_815 1     2022.11.21 09:00:04.000 86         6600                   ..\n",
       "Security_300 1     2022.11.21 09:00:05.000 23         9200                   ..\n",
       "Security_300 2     2022.11.21 09:00:05.000                      23.0312  1400..\n",
       "Security_384 1     2022.11.21 09:00:05.000 15         9100                   ..\n",
       "Security_157 1     2022.11.21 09:00:06.000                      38.0938  8800..\n",
       "Security_182 1     2022.11.21 09:00:06.000 89         2800                   ..\n",
       "Security_216 1     2022.11.21 09:00:06.000 32         6300                   ..\n",
       "Security_404 1     2022.11.21 09:00:07.000 60         2200                   ..\n",
       "Security_559 1     2022.11.21 09:00:07.000 19         800                    ..\n",
       "Security_79  1     2022.11.21 09:00:07.000 39         5900                   ..\n",
       "Security_232 1     2022.11.21 09:00:07.000 34         7200                   ..\n",
       "Security_753 1     2022.11.21 09:00:08.000                                   ..\n",
       "Security_636 1     2022.11.21 09:00:08.000                                   ..\n",
       "Security_235 1     2022.11.21 09:00:08.000                                   ..\n",
       "..\n"
      ]
     },
     "execution_count": 74,
     "metadata": {},
     "output_type": "execute_result"
    }
   ],
   "source": [
    "secs : select[101] Id from baseenum\n",
    "securities: (exec Id from secs)\n",
    "select from tickenum where Id in securities, TradeDate=2022.11.21, TimeStamp within 09:00:00.00 12:00:00.00"
   ]
  },
  {
   "cell_type": "code",
   "execution_count": 5,
   "id": "30a93807",
   "metadata": {},
   "outputs": [
    {
     "data": {
      "text/plain": [
       "Id           Percentage_spread\n",
       "------------------------------\n",
       "Security_382 0.3333333        \n",
       "Security_720 0.2702703        \n",
       "Security_96  0.2              \n",
       "Security_322 0.1538462        \n",
       "Security_874 0.1538462        \n",
       "Security_999 0.1276596        \n",
       "Security_241 0.08695652       \n",
       "Security_756 0.08695652       \n",
       "Security_19  0.07594937       \n",
       "Security_378 0.07407407       \n"
      ]
     },
     "execution_count": 5,
     "metadata": {},
     "output_type": "execute_result"
    }
   ],
   "source": [
    "0!select[10] from `Percentage_spread xdesc select Id, Percentage_spread: 2*(AskPrice-BidPrice)%(AskPrice+BidPrice) from select  last AskPrice where not null AskPrice, last BidPrice where not null BidPrice by Id from tickenum where TradeDate=2022.11.23\n"
   ]
  },
  {
   "cell_type": "code",
   "execution_count": 7,
   "id": "88079139",
   "metadata": {},
   "outputs": [
    {
     "data": {
      "text/plain": [
       "Id           Percentage_spread\n",
       "------------------------------\n",
       "Security_944 0.2857143        \n",
       "Security_965 0.2              \n",
       "Security_899 0.1290323        \n",
       "Security_751 0.1052632        \n",
       "Security_355 0.08695652       \n",
       "Security_519 0.08695652       \n",
       "Security_316 0.06134969       \n",
       "Security_10  0.04878049       \n",
       "Security_534 0.04580153       \n",
       "Security_913 0.04444444       \n"
      ]
     },
     "execution_count": 7,
     "metadata": {},
     "output_type": "execute_result"
    }
   ],
   "source": [
    "0!select[10] from `Percentage_spread xdesc `Id`Percentage_spread xcol select Id, (2*(AskPrice-BidPrice)%(AskPrice+BidPrice)) from (select  last AskPrice where not null AskPrice, last BidPrice where not null BidPrice by Id from tickenum where TradeDate=2022.11.22)\n"
   ]
  },
  {
   "cell_type": "code",
   "execution_count": 9,
   "id": "08c87a9a",
   "metadata": {},
   "outputs": [
    {
     "data": {
      "text/plain": [
       "Id                             Percentage_spread\n",
       "------------------------------------------------\n",
       "'Financial security number: 0' 0.002186221      \n",
       "'Financial security number: 1' 0.001640666      \n",
       "'Financial security number: 2' 0.002244669      \n",
       "'Financial security number: 3' 0.001341036      \n",
       "'Financial security number: 4' 0.004336086      \n",
       "CHEMICALS                      0.002012903      \n",
       "COMPUTERS                      0.002354717      \n",
       "ENTERTAINMENT                  0                \n",
       "FFR                            0                \n",
       "INDUSTRIAL                     0                \n",
       "JPY                            -0.007168459     \n",
       "PHARMACEUTICALS                0.009569378      \n",
       "Security_0                     -0.007782101     \n",
       "Security_1                     0.0006533812     \n",
       "Security_10                    0.04878049       \n",
       "Security_100                   -0.0008877053    \n",
       "Security_101                   0.001352265      \n",
       "Security_102                   0                \n",
       "Security_103                   0.0008385093     \n",
       "Security_104                   0.005633803      \n",
       "..\n"
      ]
     },
     "execution_count": 9,
     "metadata": {},
     "output_type": "execute_result"
    }
   ],
   "source": [
    "0!`Id`Percentage_spread xcol select Id, (2*(AskPrice-BidPrice)%(AskPrice+BidPrice)) from select last AskPrice where not null AskPrice, last BidPrice where not null BidPrice by Id from tickenum where TradeDate=2022.11.22\n"
   ]
  },
  {
   "cell_type": "code",
   "execution_count": null,
   "id": "5ed1520b",
   "metadata": {},
   "outputs": [],
   "source": []
  }
 ],
 "metadata": {
  "kernelspec": {
   "display_name": "Q (kdb+)",
   "language": "q",
   "name": "qpk"
  },
  "language_info": {
   "file_extension": ".q",
   "mimetype": "text/x-q",
   "name": "q",
   "version": "4.0"
  }
 },
 "nbformat": 4,
 "nbformat_minor": 5
}
