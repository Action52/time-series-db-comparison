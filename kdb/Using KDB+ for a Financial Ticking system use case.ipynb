{
 "cells": [
  {
   "cell_type": "markdown",
   "id": "3188b2b9",
   "metadata": {},
   "source": [
    "# Using KDB+\n",
    "* * *\n",
    "## Load Database\n",
    "### From Original CSVs\n",
    "\n",
    "This action only has to be performed once. If you already have the splayed tables saved somewhere, go to section \"From Splayed Tables\" to load them."
   ]
  },
  {
   "cell_type": "code",
   "execution_count": 1,
   "id": "3a3a97fc",
   "metadata": {},
   "outputs": [
    {
     "data": {
      "text/plain": [
       "Id           SeqNo TradeDate  TimeStamp    TradePrice TradeSize AskPrice AskS..\n",
       "-----------------------------------------------------------------------------..\n",
       "Security_359 1     2022.11.21 09:00:00.000 43         6300                   ..\n",
       "Security_667 1     2022.11.21 09:00:00.000 57         9100                   ..\n",
       "Security_588 1     2022.11.21 09:00:00.000 27         6800                   ..\n",
       "Security_371 1     2022.11.21 09:00:00.000                      23.0938  9600..\n",
       "Security_661 1     2022.11.21 09:00:01.000                                   ..\n",
       "Security_591 1     2022.11.21 09:00:01.000                                   ..\n",
       "Security_794 1     2022.11.21 09:00:01.000 26         700                    ..\n",
       "Security_602 1     2022.11.21 09:00:01.000 58         8100                   ..\n",
       "Security_539 1     2022.11.21 09:00:02.000                                   ..\n",
       "Security_27  1     2022.11.21 09:00:02.000 31         5600                   ..\n"
      ]
     },
     "execution_count": 1,
<<<<<<< HEAD
=======
     "metadata": {},
     "output_type": "execute_result"
    },
    {
     "data": {
      "text/plain": [
       "`:tickenum/\n"
      ]
     },
     "execution_count": 1,
>>>>>>> 8177d3489abdc3363612642e6cb0a378779044a8
     "metadata": {},
     "output_type": "execute_result"
    }
   ],
   "source": [
    "/ Load price tick file\n",
    "tick:(\"SIDTFIFIFIS\"; enlist\"|\")0:`:/Users/alfredo.leon/Desktop/findata/data/scale_1000/tick_price_file_no_spaces.csv\n",
    "/ Create enumeration for table (this is required to create a splayed table and then a partitioned table)\n",
    "tickenum: .Q.en[`:../data/test/raw/tickprice/] tick\n",
    "/ Sample query\n",
    "select[10] from tickenum where TimeStamp within 09:00:00.00 09:00:10.00\n",
    "/ Save table\n",
    "/rsave `tickenum"
   ]
  },
  {
   "cell_type": "code",
<<<<<<< HEAD
   "execution_count": 1,
   "id": "4a110f85",
   "metadata": {},
   "outputs": [
    {
     "ename": "\u001b[0;31mparse error\u001b[0m",
     "evalue": "\u001b[0;31m%\u001b[0m",
     "output_type": "error",
     "traceback": [
      "\u001b[0;31mparse error\u001b[0m",
      "\u001b[0;31m%\u001b[0m"
     ]
    }
   ],
   "source": [
    "select last SeqNo from tickenum"
   ]
  },
  {
   "cell_type": "code",
   "execution_count": 4,
=======
   "execution_count": 2,
>>>>>>> 8177d3489abdc3363612642e6cb0a378779044a8
   "id": "67bfbde7",
   "metadata": {},
   "outputs": [
    {
     "data": {
      "text/plain": [
       "Id         Ex Descr                          SIC             Cu \n",
       "----------------------------------------------------------------\n",
       "Security_0 LN 'Financial security number: 0' COMPUTERS       FFR\n",
       "Security_1 NY 'Financial security number: 1' PHARMACEUTICALS FFR\n",
       "Security_2 O  'Financial security number: 2' SOFTWARE        USD\n",
       "Security_3 O  'Financial security number: 3' SOFTWARE        USD\n",
       "Security_4 AM 'Financial security number: 4' COMPUTERS       GBP\n"
      ]
     },
<<<<<<< HEAD
     "execution_count": 4,
=======
     "execution_count": 2,
     "metadata": {},
     "output_type": "execute_result"
    },
    {
     "data": {
      "text/plain": [
       "`:baseenum/\n"
      ]
     },
     "execution_count": 2,
>>>>>>> 8177d3489abdc3363612642e6cb0a378779044a8
     "metadata": {},
     "output_type": "execute_result"
    }
   ],
   "source": [
    "/ Load base tick file\n",
    "base:(\"SSSSS\"; enlist\"|\")0:`:/Users/alfredo.leon/Desktop/findata/data/scale_1000/tick_base_file.csv\n",
    "/ Create enumeration for table (this is required to create a splayed table and then a partitioned table)\n",
    "baseenum: .Q.en[`:../data/test/raw/basetick/] base\n",
    "/ Sample query\n",
    "select[5] from baseenum\n",
    "/ Save table\n",
    "/rsave `baseenum"
   ]
  },
  {
   "cell_type": "markdown",
   "id": "52a35ffd",
   "metadata": {},
   "source": [
    "### From Splayed Tables"
   ]
  },
  {
   "cell_type": "code",
<<<<<<< HEAD
   "execution_count": null,
=======
   "execution_count": 3,
>>>>>>> 8177d3489abdc3363612642e6cb0a378779044a8
   "id": "61170782",
   "metadata": {},
   "outputs": [],
   "source": [
    "/ Load the tables from saved splayed table using get to save into variable.\n",
    "/baseenum2:get `baseenum / This should be the path to the foldeer with data.\n",
    "/priceenum2:get `tickenum"
   ]
  },
  {
   "cell_type": "code",
   "execution_count": null,
   "id": "a62e3148",
   "metadata": {},
   "outputs": [],
   "source": [
    "/ Pending: Figure out how to partition tables and save/load those"
   ]
  },
  {
   "cell_type": "markdown",
   "id": "9e314dde",
   "metadata": {},
   "source": [
    "## Benchmark Queries"
   ]
  },
  {
   "cell_type": "markdown",
   "id": "e40cc57e",
   "metadata": {},
   "source": [
    "1. Get all ticks for a specified set of 100 securities for a specified three hour time period on a specified trade date.\n",
    "\n",
    "2. Determine the volume weighted price of a security considering only the ticks in a specified three hour interval\n",
    "\n",
    "3. Determine the top 10 percentage losers for the specified date on the specified exchanges sorted by percentage loss. The loss is calculated as a percentage of the last trade price of the previous day.\n",
    "\n",
    "4. Determine the top 10 most active stocks for a specified date sorted by cumulative trade volume by considering all trades\n",
    "\n",
    "5. Find the most active stocks in the \"COMPUTER\" industry (use SIC code)\n",
    "\n",
    "6. Find the 10 stocks with the highest percentage spreads. Spread is the difference between the last ask-price and the last bid-price. Percentage spread is calculated as a percentage of the mid-point price (average of ask and bid price)."
   ]
  },
  {
   "cell_type": "markdown",
   "id": "a62402b7",
   "metadata": {},
   "source": [
    "1. Get all ticks for a specified set of 100 securities for a specified three hour time period on a specified trade date."
   ]
  },
  {
   "cell_type": "code",
<<<<<<< HEAD
   "execution_count": 2,
   "id": "6b48a5a3",
   "metadata": {},
   "outputs": [
    {
     "data": {
      "text/plain": [
       "TradeDate \n",
       "----------\n",
       "2022.11.21\n",
       "2022.11.22\n",
       "2022.11.23\n",
       "2022.11.24\n",
       "2022.11.25\n"
      ]
     },
     "execution_count": 2,
     "metadata": {},
     "output_type": "execute_result"
    }
   ],
   "source": [
    "distinct select TradeDate from tickenum"
   ]
  },
  {
   "cell_type": "code",
   "execution_count": 2,
=======
   "execution_count": 4,
>>>>>>> 8177d3489abdc3363612642e6cb0a378779044a8
   "id": "b7e7b648",
   "metadata": {},
   "outputs": [
    {
     "data": {
      "text/plain": [
       "Id           SeqNo TradeDate  TimeStamp    TradePrice TradeSize AskPrice AskS..\n",
       "-----------------------------------------------------------------------------..\n",
       "Security_359 1     2022.11.21 09:00:00.000 43         6300                   ..\n",
       "Security_667 1     2022.11.21 09:00:00.000 57         9100                   ..\n",
       "Security_588 1     2022.11.21 09:00:00.000 27         6800                   ..\n",
       "Security_371 1     2022.11.21 09:00:00.000                      23.0938  9600..\n",
       "Security_661 1     2022.11.21 09:00:01.000                                   ..\n",
       "Security_591 1     2022.11.21 09:00:01.000                                   ..\n",
       "Security_794 1     2022.11.21 09:00:01.000 26         700                    ..\n",
       "Security_602 1     2022.11.21 09:00:01.000 58         8100                   ..\n",
       "Security_539 1     2022.11.21 09:00:02.000                                   ..\n",
       "Security_27  1     2022.11.21 09:00:02.000 31         5600                   ..\n",
       "Security_634 1     2022.11.21 09:00:02.000                                   ..\n",
       "Security_389 1     2022.11.21 09:00:02.000 11         6800                   ..\n",
       "Security_483 1     2022.11.21 09:00:03.000                      52.0312  6600..\n",
       "Security_485 1     2022.11.21 09:00:03.000                      12.0625  8900..\n",
       "Security_493 1     2022.11.21 09:00:03.000                      44.0938  4300..\n",
       "Security_171 1     2022.11.21 09:00:03.000                                   ..\n",
       "Security_387 1     2022.11.21 09:00:04.000                                   ..\n",
       "Security_337 1     2022.11.21 09:00:04.000 61         7300                   ..\n",
       "Security_95  1     2022.11.21 09:00:04.000                      1        8100..\n",
       "Security_815 1     2022.11.21 09:00:04.000 86         6600                   ..\n",
       "..\n"
      ]
     },
<<<<<<< HEAD
     "execution_count": 2,
=======
     "execution_count": 4,
>>>>>>> 8177d3489abdc3363612642e6cb0a378779044a8
     "metadata": {},
     "output_type": "execute_result"
    }
   ],
   "source": [
    "secs : select[101] Id from tickenum\n",
    "securities: (exec Id from secs)  / This is a list\n",
    "select from tickenum where Id in securities, TradeDate=2022.11.21, TimeStamp within 09:00:00.00 12:00:00.00"
   ]
  },
  {
   "cell_type": "markdown",
   "id": "cf104b42",
   "metadata": {},
   "source": [
    "2. Determine the volume weighted price of a security considering only the ticks in a specified three hour interval."
   ]
  },
  {
   "cell_type": "code",
   "execution_count": 2,
   "id": "7b55f513",
   "metadata": {},
   "outputs": [
    {
     "data": {
      "text/plain": [
       "TradePrice\n",
       "----------\n",
       "3.99304   \n"
      ]
     },
     "execution_count": 2,
     "metadata": {},
     "output_type": "execute_result"
    }
   ],
   "source": [
    "select sum(TradePrice * TradeSize) % sum(TradeSize) from tickenum where Id=`Security_1, TradeDate=2022.11.21, TimeStamp within 09:00:00.00 12:00:00.00"
   ]
  },
  {
   "cell_type": "markdown",
   "id": "da8c5d46",
   "metadata": {},
   "source": [
    "3. Determine the top 10 percentage losers for the specified date on the specified exchanges sorted by percentage loss. The loss is calculated as a percentage of the last trade price of the previous day."
   ]
  },
  {
   "cell_type": "code",
   "execution_count": 3,
   "id": "e84d1b47",
   "metadata": {},
   "outputs": [
    {
     "data": {
      "text/plain": [
       "Id           LossPercentage\n",
       "---------------------------\n",
       "Security_382 -70           \n",
       "Security_96  -62.5         \n",
       "Security_999 -59.09091     \n",
       "Security_322 -33.33333     \n",
       "Security_524 -26.66667     \n",
       "Security_656 -25.80645     \n",
       "Security_95  -23.52941     \n",
       "Security_19  -21.05263     \n",
       "Security_980 -19.79167     \n",
       "Security_799 -15.58442     \n"
      ]
     },
     "execution_count": 3,
     "metadata": {},
     "output_type": "execute_result"
    }
   ],
   "source": [
    "select[10] from\n",
    "    `LossPercentage xasc `Id`LossPercentage xcol\n",
    "    select Id, (ClosingPriceToday-ClosingPricePreviousDay)*100%ClosingPricePreviousDay from(\n",
    "        `Id`ClosingPriceToday`ClosingPricePreviousDay xcol\n",
    "        (\n",
    "            (`Id`ClosingPriceToday xcol select first TradePrice by Id from (`TimeStamp xdesc \n",
    "                select Id, TradePrice, TimeStamp \n",
    "                from tickenum\n",
    "                where TradeDate=2022.11.22, TradePrice>0.0)) ij\n",
    "            (`Id`ClosingPricePreviousDay xcol select first TradePrice by Id from (`TimeStamp xdesc \n",
    "                select Id, TradePrice, TimeStamp \n",
    "                from tickenum \n",
    "                where TradeDate=2022.11.23, TradePrice>0.0))\n",
    "        )\n",
    "    )"
   ]
  },
  {
   "cell_type": "code",
   "execution_count": null,
   "id": "4af7b8ed",
   "metadata": {},
   "outputs": [],
   "source": []
  },
  {
   "cell_type": "markdown",
   "id": "1d87289b",
   "metadata": {},
   "source": [
    "3. Determine the top 10 percentage losers for the specified date on the specified exchanges sorted by percentage loss. The loss is calculated as a percentage of the last trade price of the previous day."
   ]
  },
  {
   "cell_type": "code",
   "execution_count": 45,
   "id": "43c0d14b",
   "metadata": {},
   "outputs": [
    {
     "data": {
      "text/plain": [
       "Id         loss      \n",
       "---------------------\n",
       "Security_0 0.2280993 \n",
       "Security_2 0.2045474 \n",
       "Security_3 0.1681548 \n",
       "Security_4 0.1302625 \n",
       "Security_1 0.05972275\n"
      ]
     },
     "execution_count": 45,
     "metadata": {},
     "output_type": "execute_result"
    }
   ],
   "source": [
    "a: select TimeStamp:last TimeStamp where not null TradePrice, TradePrice: last TradePrice where not null TradePrice by Id from priceenum2 where TradeDate=2022.11.03\n",
    "b: select TimeStamp_final: last TimeStamp where not null TradePrice, TradePrice_final:last TradePrice where not null TradePrice by Id  from priceenum2 where TradeDate=2022.11.04\n",
    "c: a^b\n",
    "select [10;>(TradePrice_final-TradePrice)%TradePrice] Id, loss:(TradePrice_final-TradePrice)%TradePrice from c"
   ]
  },
  {
   "cell_type": "markdown",
   "id": "0953a0c0",
   "metadata": {},
   "source": [
    "4. Determine the top 10 most active stocks for a specified date sorted by cumulative trade volume by considering all trades\n"
   ]
  },
  {
   "cell_type": "code",
   "execution_count": 46,
   "id": "2b6ff11d",
   "metadata": {},
   "outputs": [
    {
     "data": {
      "text/plain": [
       "Id        | TradeCumulative\n",
       "----------| ---------------\n",
       "Security_3| 14429100       \n",
       "Security_4| 14127700       \n",
       "Security_0| 14018800       \n",
       "Security_1| 13939600       \n",
       "Security_2| 13587800       \n"
      ]
     },
     "execution_count": 46,
     "metadata": {},
     "output_type": "execute_result"
    }
   ],
   "source": [
    "select [10;>TradeCumulative] TradeCumulative:sum TradeSize by Id from priceenum2 where TradeDate=2022.11.03 "
   ]
  },
  {
   "cell_type": "markdown",
   "id": "127ca52e",
   "metadata": {},
   "source": [
    "5. Find the most active stocks in the \"COMPUTER\" industry (use SIC code)"
   ]
  },
  {
   "cell_type": "code",
   "execution_count": 48,
   "id": "002d076d",
   "metadata": {},
   "outputs": [
    {
     "data": {
      "text/plain": [
       "Id        | TradeCumulative\n",
       "----------| ---------------\n",
       "Security_1| 1              \n"
      ]
     },
     "execution_count": 48,
     "metadata": {},
     "output_type": "execute_result"
    }
   ],
   "source": [
    "complete: ej[`Id;baseenum2;priceenum2]\n",
    "select [1;>TradeCumulative] TradeCumulative:count 1 by Id from complete where SIC like \"COMPUTERS\""
   ]
  },
  {
   "cell_type": "markdown",
   "id": "26710bbd",
   "metadata": {},
   "source": [
    "6. Find the 10 stocks with the highest percentage spreads. Spread is the difference between the last ask-price and the last bid-price. Percentage spread is calculated as a percentage of the mid-point price (average of ask and bid price)."
   ]
  },
  {
   "cell_type": "code",
   "execution_count": 55,
   "id": "5ce35b1f",
   "metadata": {},
   "outputs": [
    {
     "data": {
      "text/plain": [
       "Id         Percentage_spread\n",
       "----------------------------\n",
       "Security_2 0.003583997      \n",
       "Security_4 0.001754386      \n",
       "Security_0 0                \n",
       "Security_3 0                \n",
       "Security_1 -0.0003549868    \n"
      ]
     },
     "execution_count": 55,
     "metadata": {},
     "output_type": "execute_result"
    }
   ],
   "source": [
    "a: select  last AskPrice where not null AskPrice, last BidPrice where not null BidPrice by Id from priceenum2 where TradeDate=2022.11.03\n",
    "select [10;>2*(AskPrice-BidPrice)%(AskPrice+BidPrice)] Id, Percentage_spread: 2*(AskPrice-BidPrice)%(AskPrice+BidPrice) from a"
   ]
  }
 ],
 "metadata": {
  "kernelspec": {
   "display_name": "Q (kdb+)",
   "language": "q",
   "name": "qpk"
  },
  "language_info": {
   "file_extension": ".q",
   "mimetype": "text/x-q",
   "name": "q",
   "version": "4.0"
  },
  "vscode": {
   "interpreter": {
    "hash": "555817e9433919514013901d2c7decb34217ce920cd904164e6927ffc9452965"
   }
  }
 },
 "nbformat": 4,
 "nbformat_minor": 5
}
